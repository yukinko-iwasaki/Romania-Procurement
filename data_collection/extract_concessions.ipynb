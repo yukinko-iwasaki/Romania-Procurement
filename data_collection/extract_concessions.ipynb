{
 "cells": [
  {
   "cell_type": "code",
   "execution_count": 1,
   "id": "be4d341d",
   "metadata": {},
   "outputs": [
    {
     "name": "stderr",
     "output_type": "stream",
     "text": [
      "/Users/ysuzuki2/Library/CloudStorage/OneDrive-WBG/Documents/GitHub/Romania-Procurement/.venv/lib/python3.9/site-packages/urllib3/__init__.py:35: NotOpenSSLWarning: urllib3 v2 only supports OpenSSL 1.1.1+, currently the 'ssl' module is compiled with 'LibreSSL 2.8.3'. See: https://github.com/urllib3/urllib3/issues/3020\n",
      "  warnings.warn(\n"
     ]
    }
   ],
   "source": [
    "import requests\n",
    "import pandas as pd\n",
    "\n",
    "DEST_FOLDER = \"data/\"\n",
    "LIST_FILE = DEST_FOLDER + \"concession_list.csv\""
   ]
  },
  {
   "cell_type": "markdown",
   "id": "88c1bbc5",
   "metadata": {},
   "source": [
    "## Get the list of relevant documents \n",
    "\n",
    "a. Business Type: Construction\n",
    "\n",
    "b. Dates : 2022/01/01 - 2025/10/6\n",
    "\n",
    "c. Document types - Concessions"
   ]
  },
  {
   "cell_type": "code",
   "execution_count": 2,
   "id": "5d15a53c",
   "metadata": {},
   "outputs": [
    {
     "name": "stdout",
     "output_type": "stream",
     "text": [
      "Response saved as data/concession_list.csv\n"
     ]
    }
   ],
   "source": [
    "# Send a POST request to a sample API endpoint and save the response as CSV\n",
    "\n",
    "import json\n",
    "\n",
    "url = \"https://www.e-licitatie.ro/api-pub/NoticeCommon/GetCNoticeList/\"\n",
    "headers = {\n",
    "    \"Content-Type\": \"application/json\",\n",
    "    \"Referer\": \"https://e-licitatie.ro/pub/notices/contract-notices/list/0/0\",\n",
    "}\n",
    "payloads = {\n",
    "    \"sysNoticeTypeIds\": [7], # 7 for Concessions\n",
    "    \"sortProperties\": [],\n",
    "    \"pageSize\": 1200,\n",
    "    \"hasUnansweredQuestions\": False,\n",
    "    \"startPublicationDate\": \"2022-01-01T20:02:15.771Z\",\n",
    "    \"startTenderReceiptDeadline\": \"2022-01-01T20:02:15.771Z\",\n",
    "    \"sysProcedureStateId\": None, # all states e.g in progress, cancelled, etc.\n",
    "    \"pageIndex\": 0,\n",
    "    \"cPVCategoryId\": 2 # 2 for Construction\n",
    "}\n",
    "\n",
    "\n",
    "response = requests.post(url, json=payloads, headers=headers)\n",
    "\n",
    "df = pd.DataFrame(json.loads(response.content)['items'])\n",
    "df.to_csv(LIST_FILE, index=False)\n",
    "print(f\"Response saved as {LIST_FILE}\")"
   ]
  },
  {
   "cell_type": "code",
   "execution_count": 18,
   "id": "acfb229f",
   "metadata": {},
   "outputs": [],
   "source": [
    "import pandas as pd\n",
    "contract_list = pd.read_csv(LIST_FILE)"
   ]
  },
  {
   "cell_type": "code",
   "execution_count": 11,
   "id": "f4080ed2",
   "metadata": {},
   "outputs": [
    {
     "data": {
      "text/plain": [
       "{'message': 'Access Denied: Referrer cannot be null.'}"
      ]
     },
     "execution_count": 11,
     "metadata": {},
     "output_type": "execute_result"
    }
   ],
   "source": [
    "general_data \n"
   ]
  },
  {
   "cell_type": "markdown",
   "id": "ffd1ae42",
   "metadata": {},
   "source": [
    "## Get the information for each of the contract"
   ]
  },
  {
   "cell_type": "code",
   "execution_count": 12,
   "id": "a288cf2c",
   "metadata": {},
   "outputs": [
    {
     "name": "stdout",
     "output_type": "stream",
     "text": [
      "100215199\n",
      "100221134\n",
      "100223552\n",
      "100240283\n",
      "100252116\n",
      "100258272\n",
      "100272838\n",
      "100299648\n",
      "100303024\n",
      "100353273\n",
      "100349235\n",
      "100368147\n",
      "Saved batch to data/consolidated_concession_batch_1.csv\n"
     ]
    }
   ],
   "source": [
    "import json\n",
    "import pandas as pd\n",
    "import requests\n",
    "contract_list = pd.read_csv(LIST_FILE)\n",
    "contract_list.sort_values(by='cNoticeId', inplace=True)\n",
    "# List of document_ids to loop through\n",
    "results = []\n",
    "batch_size = 100  # Change as needed\n",
    "start_index = 0  \n",
    "for idx, row in enumerate(contract_list[start_index:].itertuples(), start=start_index):\n",
    "    contract_id = row.cNoticeId\n",
    "    document_type = row.sysNoticeTypeId\n",
    "\n",
    "    row_data = {\"document_id\": contract_id}\n",
    "    \n",
    "    # Get general info to extract dfNoticeId and save general data\n",
    "    general_info_url = f'https://e-licitatie.ro/api-pub/comboPub/getNoticeGeneralInfo/?noticeId={contract_id}&sysNoticeTypeId={document_type}'\n",
    "    try:\n",
    "        general_response = requests.get(general_info_url, headers={\n",
    "                \"Referer\": f\"https://www.e-licitatie.ro/pub/notices/c-notice/v2/view/{contract_id}\"\n",
    "            },)\n",
    "        general_data = json.loads(general_response.content.decode(\"utf-8\"))\n",
    "        dfNoticeId = general_data.get('dfNoticeId', 111)  # Default to 111 if not found\n",
    "        print(dfNoticeId)\n",
    "        # Add general data to row_data with \"general_\" prefix\n",
    "        for k, v in general_data.items():\n",
    "            row_data[f\"general_{k}\"] = v\n",
    "            \n",
    "    except Exception as e:\n",
    "        print(f\"Failed to get general info for {contract_id}: {e}\")\n",
    "        dfNoticeId = 111  # Fallback to default\n",
    "    \n",
    "    urls = {\n",
    "        \"section1\": f\"https://www.e-licitatie.ro/api-pub/NoticeCommon/GetSection1View/?initNoticeId={contract_id}&sysNoticeTypeId={document_type}\",\n",
    "        \"section2\": f\"https://www.e-licitatie.ro/api-pub/NoticeCommon/GetSection21View/?dfNoticeId={dfNoticeId}&initNoticeId={contract_id}&sysNoticeTypeId={document_type}\",\n",
    "        \"section3\": f\"https://www.e-licitatie.ro/api-pub/NoticeCommon/GetSection3View/?initNoticeId={contract_id}&sysNoticeTypeId={document_type}\",\n",
    "        \"section4\": f\"https://www.e-licitatie.ro/api-pub/NoticeCommon/GetSection4View/?initNoticeId={contract_id}&sysNoticeTypeId={document_type}\",\n",
    "        \"section6\": f\"https://www.e-licitatie.ro/api-pub/NoticeCommon/GetSection6View/?initNoticeId={contract_id}&sysNoticeTypeId={document_type}\",\n",
    "    }\n",
    "    for section, url in urls.items():\n",
    "        response = requests.get(\n",
    "            url,\n",
    "            headers={\n",
    "                \"Referer\": f\"https://www.e-licitatie.ro/pub/notices/c-notice/v2/view/{contract_id}\"\n",
    "            },\n",
    "        )\n",
    "        try:\n",
    "            data = json.loads(response.content.decode(\"utf-8\"))\n",
    "            # Flatten each key with section identifier\n",
    "            for k, v in data.items():\n",
    "                row_data[f\"{section}_{k}\"] = v\n",
    "        except Exception as e:\n",
    "            print(f\"Failed to parse JSON for {section} of {contract_id}: {e}\")\n",
    "    results.append(row_data)\n",
    "\n",
    "    # Save every batch_size rows to a distinct file\n",
    "    if (idx + 1) % batch_size == 0 or (idx + 1) == len(contract_list):\n",
    "        batch_df = pd.DataFrame(results)\n",
    "        batch_file = f\"{DEST_FOLDER}consolidated_concession_batch_{idx // batch_size + 1}.csv\"\n",
    "        batch_df.to_csv(batch_file, index=False)\n",
    "        print(f\"Saved batch to {batch_file}\")\n",
    "        results = []  # Reset for next batch"
   ]
  },
  {
   "cell_type": "code",
   "execution_count": 56,
   "id": "2fdd8ffd",
   "metadata": {},
   "outputs": [],
   "source": [
    "response = requests.get(\n",
    "    url,\n",
    "    headers={\n",
    "        \"Referer\": f\"https://www.e-licitatie.ro/pub/notices/c-notice/v2/view/{contract_id}\"\n",
    "    },\n",
    ")"
   ]
  },
  {
   "cell_type": "code",
   "execution_count": 54,
   "id": "5e0516bc",
   "metadata": {},
   "outputs": [
    {
     "data": {
      "text/plain": [
       "b'{\"personalSituation\":\"Cerinta 1 : 1. Ofertantii, ter\\xc8\\x9bii sus\\xc8\\x9binatori si subcontractantii nu trebuie sa se regaseasca:\\\\nModalitatea de indeplinire: Se va completa DUAE de c\\xc4\\x83tre operatorii economici participan\\xc8\\x9bi la procedura de atribuire cu informa\\xc8\\x9biile aferente situa\\xc8\\x9biei lor. Documentele justificative care probeaz\\xc4\\x83 \\xc3\\xaendeplinirea celor asumate prin completarea DUAE urmeaz\\xc4\\x83 a fi prezentate, la solicitarea autorit\\xc4\\x83\\xc8\\x9bii contractante, doar de c\\xc4\\x83tre ofertantul clasat pe locul I \\xc3\\xaen clasamentul intermediar \\xc3\\xaentocmit la finalizarea evalu\\xc4\\x83rii ofertelor. Aceste documente sunt: \\\\n- Certificate constatatoare/certificate de atestare fiscala, privind lipsa datoriilor cu privire la plata impozitelor, taxelor sau a contribu\\xc8\\x9biilor la bugetul general consolidat valabile la momentul prezent\\xc4\\x83rii.        \\\\n - Certificat de atestare fiscal\\xc4\\x83 privind impozitele \\xc8\\x99i taxele locale \\xc8\\x99i alte venituri ale bugetului local emis de Prim\\xc4\\x83rie, care s\\xc4\\x83 ateste c\\xc4\\x83 societatea nu are datorii la bugetul local, valabile la momentul prezent\\xc4\\x83rii, pentru sediul principal, iar pentru sediile secundare/punctele de lucru, o declara\\xc5\\xa3ie pe propria r\\xc4\\x83spundere privind \\xc3\\xaendeplinirea obliga\\xc5\\xa3iilor de plat\\xc4\\x83 a impozitelor, taxelor sau contribu\\xc5\\xa3iilor la bugetul general consolidat datorate\\xe2\\x80\\x9d; \\\\n- Cazier fiscal al operatorului economic\\\\n- Cazierul judiciar al operatorului economic \\xc8\\x99i al membrilor organului de administrare, de conducere sau de supraveghere al respectivului operator economic, sau a celor ce au putere de reprezentare, de decizie sau de control \\xc3\\xaen cadrul acestuia, a\\xc8\\x99a cum rezult\\xc4\\x83 din certificatul constatator emis de ONRC / actul constitutiv; \\\\n- dup\\xc4\\x83 caz, documente prin care se demonstreaz\\xc4\\x83 faptul c\\xc4\\x83 operatorul economic poate beneficia de derog\\xc4\\x83rile prevazute la art. 166 alin. (2), art. 167 alin. (2), art. 171 din Legea 98/2016 privind achizi\\xc8\\x9biile publice; \\\\n- alte documente edificatoare, dupa caz.\\\\nNote: \\\\nOrice op  ec.  aflat in oricare din situatiile prevazute la art. 164, 165 , si 167  din L 98/2016, care atrag excluderea din procedura de atribuire, poate furniza dovezi care sa arate ca masurile luate de acesta sunt suficiente pentru a-si demonstra in concret credibilitatea prin raportare la motivele de excludere in conformitate cu prev art 171 din L 98/2016.\\\\nIn situatia in care ofertantul/ofertantul asociat/tert sustinator/subcontractant se afla in situatiile prevazute la art. 164, 165, 167 din L 98/2016 privind achizitiile publice, acesta va fi exclus de la procedura de atribuire.\\\\nCerinta trebuie indeplinita si de asociati, terti sustinatori si subcontractanti in situatia in care acestia exista. In vederea completarii DUAE se vor respecta instructiunile prevazute in ghidul de utilizare DUAE \\xe2\\x80\\x93 Informatii pentru Operator Economic,disponibil pe platforma SEAP.\\\\nCfm OUG 3/2021: Pentru respectarea prev art 165 alin. (2), din L 98/2016. in etapa prevazuta la art. 196 alin. (2), op ec prezinta pentru sediul principal documente din care sa reiasa neincadrarea in prevederile art. 165 alin. (1), iar pentru sediile secundare/punctele de lucru, o declaratie pe propria raspundere privind indeplinirea obligatiilor de plata a impozitelor, taxelor sau contributiilor la BG consolidat datorate.\\\\nCerinta 2: \\\\n\\xe2\\x80\\x9cOperatorul economic (ofertant individual, membru al unei asocieri, subcontractant, sustinator de terta parte) NU trebuie sa se regaseasca in situatiile prevazute la art. 59 si 60 din Legea 98/2016 privind achizitiile publice, cu modificarile si completarile ulterioare\\xe2\\x80\\x9d\\\\nModalitatea de indeplinire: \\\\nSe va completa DUAE.- Va fi prezentat\\xc4\\x83 de ofertan\\xc8\\x9bi, ter\\xc8\\x9bi sus\\xc8\\x9bin\\xc4\\x83tori, asocia\\xc8\\x9bi \\xc8\\x99i subcontractan\\xc8\\x9bi, odat\\xc4\\x83 cu DUAE. Ofertantul va depune o declara\\xc8\\x9bie pe proprie r\\xc4\\x83spundere c\\xc4\\x83 nu are drept membri \\xc3\\xaen cadrul consiliului de administra\\xc8\\x9bie/organ de conducere sau de supervizare \\xc8\\x99i/sau are ac\\xc8\\x9bionari ori asocia\\xc8\\x9bi persoane care sunt so\\xc8\\x9b/so\\xc8\\x9bie, rud\\xc4\\x83 sau afin p\\xc3\\xa2n\\xc4\\x83 la gradul al doi-lea inclusiv sau care se afl\\xc4\\x83 \\xc3\\xaen rela\\xc8\\x9bii comerciale, astfel cum sunt acestea prevazute la art. 60 alin.(1) lit.e).\\\\nPersoanele care de\\xc8\\x9bin func\\xc8\\x9bii de decizie sunt: \\\\n1.-George Scripcaru - Primar         \\\\n2.-Adriana Laura Miron \\xe2\\x80\\x93 Administrator Public      \\\\n3.-Sebastian Mihai Rusu - Viceprimar    al Municipiul Bra\\xc8\\x99ov    \\\\n4.-Flavia Boghiu -    Viceprimar    al Municipiul Bra\\xc8\\x99ov      \\\\n5.-Adriana Trandrafir \\xe2\\x80\\x93 Secretar General al Municipiul Bra\\xc8\\x99ov\\\\n6.-Raluca Moise \\xe2\\x80\\x93 \\xc8\\x98ef Serviciul Contencios\\\\n7.- Virgil Rezu\\xc8\\x99 - Inspector, Serviciul Investi\\xc8\\x9bii\\\\n8.-Marilena Tudorache - Director Economic, Direc\\xc5\\xa3ia Economic\\xc4\\x83\\\\n9.-Maria Oprea -  \\xc5\\x9eef Serviciu Buget CFP\\\\n10.-Viorica Cristolovean -  \\xc8\\x98ef Serviciu Financiar Contabilitate\\\\n11.- Doru Telembeci - Director Executiv, Direc\\xc8\\x9bia Tehnic\\xc4\\x83\\\\n12.- Anda- Maria Zamora -Director, Direc\\xc8\\x9bia Juridic\\xc4\\x83 \\xc8\\x99i Administra\\xc8\\x9bie Public\\xc4\\x83 Local\\xc4\\x83\\\\n13.- Monica Nodea - Inspector, Serviciul Investi\\xc8\\x9bii\\\\n14.- Roxana Colan - Consilier  Achizi\\xc8\\x9bii Publice\\\\n15.- Lucian Garcea- Inspector  Serviciul Financiar Contabilitate\\\\n16.-Carmen Coman- Inspector Serviciul Investi\\xc8\\x9bii\\\\n17.- Carmen-Aurelia B\\xc3\\xa2rzan \\xe2\\x80\\x93 Consilier juridic\\\\n18.- Cristina Handra- Consilier  Achizi\\xc8\\x9bii Publice\\\\n19.- Liliana Mavrodin - Consilier, Serviciu Financiar Contabilitate\\\\n20.- Adrian Bularca -  Consilier, Serviciul Financiar Contabilitate\\\\n21. - Ramiro Constantin B\\xc4\\x83il\\xc4\\x83-  Consilier,\\\\nServiciul Contecios\\\\n22.-Gicu\\xc8\\x9ba Marcu \\xe2\\x80\\x93 \\xc8\\x98ef Serviciul Achizi\\xc8\\x9bii Publice\\\\nCerinta 3 : Declara\\xc8\\x9bie privind respectarea prevederilor art. 51 din Legea 98/2016\\\\nModalitatea de indeplinire: Va fi prezentat\\xc4\\x83 de ofertan\\xc8\\x9bi, ter\\xc8\\x9bi sus\\xc8\\x9bin\\xc4\\x83tori, asocia\\xc8\\x9bi \\xc8\\x99i subcontractan\\xc8\\x9bi, odat\\xc4\\x83 cu DUAE Formularul 6.\\\\nCerinta 4 : Declaratie privind respectarea principiului DNSH \\\\nModalitatea de indeplinire: Va fi prezentat\\xc4\\x83 de ofertan\\xc8\\x9bi, ter\\xc8\\x9bi sus\\xc8\\x9bin\\xc4\\x83tori, asocia\\xc8\\x9bi \\xc8\\x99i subcontractan\\xc8\\x9bi, odat\\xc4\\x83 cu DUAE Formularul 12.\\\\r\\\\nOperatorii economici ce depun oferta trebuie s\\xc4\\x83 dovedeasc\\xc4\\x83 o form\\xc4\\x83 de \\xc3\\xaenregistrare \\xc3\\xaen condi\\xc8\\x9biile legii din \\xc8\\x9bara de reziden\\xc8\\x9b\\xc4\\x83, s\\xc4\\x83 reias\\xc4\\x83 c\\xc4\\x83 operatorul economic este legal constituit, c\\xc4\\x83 nu se afl\\xc4\\x83 \\xc3\\xaen niciuna dintre situa\\xc8\\x9biile de anulare a constituirii precum \\xc8\\x99i faptul c\\xc4\\x83 are capacitatea profesional\\xc4\\x83 de a furniza produsele \\xc8\\x99i de a presta serviciile conexe \\xc8\\x99i de a realiza lucr\\xc4\\x83rile care fac obiectul contractului. Ofertan\\xc8\\x9bii vor completa DUAE, urm\\xc3\\xa2nd ca documentul justificativ, respectiv certificatul ONRC sau pentru ofertan\\xc8\\x9bii str\\xc4\\x83ini, documentul echivalent emis \\xc3\\xaen \\xc8\\x9bara de reziden\\xc8\\x9b\\xc4\\x83, Certificatul de Reziden\\xc8\\x9b\\xc4\\x83 Fiscal\\xc4\\x83, s\\xc4\\x83 fie prezentat doar la solicitarea autorit\\xc4\\x83\\xc8\\x9bii contractante, la finalizarea evalu\\xc4\\x83rii ofertelor, de c\\xc4\\x83tre ofertantul clasat pe locul I, conf. art.193-195 din Legea nr. 98/2016 privind achizi\\xc8\\x9biile publice cu modific\\xc4\\x83rile \\xc8\\x99i complet\\xc4\\x83rile ulterioare \\xc8\\x99i art. 65 coroborat cu art. 66 din HG nr. 395/2016 cu modific\\xc4\\x83rile \\xc8\\x99i complet\\xc4\\x83rile ulterioare. Nota 1: Operatorii economici nereziden\\xc8\\x9bi (str\\xc4\\x83ini) ce depun oferta trebuie s\\xc4\\x83 dovedeasc\\xc4\\x83 o forma de \\xc3\\xaenregistrare \\xc3\\xaen condi\\xc8\\x9biile legii din \\xc8\\x9bara de reziden\\xc8\\x9b\\xc4\\x83, din care s\\xc4\\x83 rezulte abilitatea operatorului economic ofertant str\\xc4\\x83in de a furniza produsele, de a presta serviciile conexe \\xc8\\x99i de a realiza lucr\\xc4\\x83rile care fac obiectul contractului. Documentele se vor prezenta \\xc3\\xaenso\\xc8\\x9bite de traducere autorizat\\xc4\\x83 a acestora \\xc3\\xaen limba rom\\xc3\\xa2n\\xc4\\x83. Informa\\xc8\\x9biile cuprinse \\xc3\\xaen acestea trebuie s\\xc4\\x83 fie reale/valide la data prezent\\xc4\\x83rii. Documentele se vor posta \\xc3\\xaen SEAP, cu semn\\xc4\\x83tura electronic\\xc4\\x83 extins\\xc4\\x83, la solicitarea autorit\\xc4\\x83\\xc8\\x9bii contractante, doar de c\\xc4\\x83tre ofertantul clasat pe primul loc la finalizarea evalu\\xc4\\x83rii ofertelor.\\\\r\\\\n\",\"efCriteria\":\"\",\"efCriteriaMin\":\"\",\"efCriteriaBold1\":\"\",\"efCriteriaBold2\":\"\",\"tpCriteriaQAStandard\":\"Pentru contractele de achizi\\xc8\\x9bie de lucr\\xc4\\x83ri: executarea de lucr\\xc4\\x83ri de tipul specificat\\\\r\\\\nPropor\\xc8\\x9bia de subcontractare\\\\r\\\\nCertificate emise de organisme independente cu privire la standardele de asigurare a calit\\xc4\\x83\\xc8\\x9bii\\\\r\\\\nCertificate emise de organisme independente cu privire la sistemele sau standardele de management de mediu\\\\r\\\\n\\\\n \\\\t\",\"tpCriteriaQAStandardMin\":\"Capacitatea tehnic\\xc4\\x83 \\xc8\\x99i profesional\\xc4\\x83  \\\\n-Ofertan\\xc8\\x9bii vor prezenta o lista a principalelor execut\\xc4\\x83ri de lucr\\xc4\\x83ri similare efectuate \\xc3\\xaen ultimii 5 ani, indiferent dac\\xc4\\x83 ace\\xc8\\x99tia sunt autorit\\xc4\\x83\\xc8\\x9bi contractante sau clien\\xc8\\x9bi priva\\xc8\\x9bi (se va preciza dac\\xc4\\x83 au fost finalizate) prin completarea \\xc8\\x99i prezentarea DUAE cu informa\\xc8\\x9biile aferente situa\\xc8\\x9biei lor.\\\\nLa nivelul DUAE trebuie precizate de c\\xc4\\x83tre candida\\xc8\\x9bi/ofertan\\xc8\\x9bi informa\\xc8\\x9bii cum ar fi: num\\xc4\\x83rul \\xc8\\x99i data contractului invocat drept experien\\xc8\\x9b\\xc4\\x83 similar\\xc4\\x83, beneficiarul acestuia \\xc8\\x99i datele sale de contact, data \\xc8\\x99i num\\xc4\\x83rul documentului de recep\\xc8\\x9bie, precum \\xc8\\x99i ponderea \\xc8\\x99i/sau activit\\xc4\\x83\\xc8\\x9bile pentru care a fost responsabil, \\xc3\\xaempreun\\xc4\\x83 cu valoarea acestora, f\\xc4\\x83r\\xc4\\x83 TVA. \\\\n Prin lista contractelor de lucr\\xc4\\x83ri similare executate, \\xc3\\xaenso\\xc8\\x9bit\\xc4\\x83 de certific\\xc4\\x83ri/recomand\\xc4\\x83ri, documente constatatoare sau echivalent, ofertantul trebuie s\\xc4\\x83 fac\\xc4\\x83 dovada c\\xc4\\x83, \\xc3\\xaen ultimii 5 ani calcula\\xc8\\x9bi p\\xc3\\xa2n\\xc4\\x83 la data limit\\xc4\\x83 stabilit\\xc4\\x83 pentru depunerea ofertelor, au fost executate \\xc3\\xaen conformitate cu normele profesionale si duse la bun sf\\xc3\\xa2r\\xc8\\x99it, lucr\\xc4\\x83ri similare celor incluse \\xc3\\xaen obiectul contractului ce urmeaz\\xc4\\x83 a fi atribuit, cu o valoare total\\xc4\\x83, f\\xc4\\x83r\\xc4\\x83 TVA, mai mare sau cel pu\\xc8\\x9bin egala cu 20.000.000,00 lei ,  la nivelul la unul sau mai multe contracte.Vor fi luate \\xc3\\xaen considerare drept experien\\xc8\\x9b\\xc4\\x83 similar\\xc4\\x83, lucr\\xc4\\x83ri \\xc8\\x99i sevicii similare desf\\xc4\\x83\\xc8\\x99urate \\xc8\\x99i \\xc3\\xaen cadrul unor contracte finalizate \\xc3\\xaen ultimii 5 ani calcula\\xc8\\x9bi p\\xc3\\xa2n\\xc4\\x83 la data limit\\xc4\\x83 de depunere a ofertei, sau aflate \\xc3\\xaen derulare la data depunerii ofertei. Valoarea solicitata a lucr\\xc4\\x83rilor similare, necesar\\xc4\\x83 pentru \\xc3\\xaendeplinirea cerin\\xc8\\x9bei de experien\\xc8\\x9b\\xc4\\x83 similar\\xc4\\x83, se poate demonstra prin \\xc3\\xaensumarea valorilor serviciilor \\xc8\\x99i lucr\\xc4\\x83rilor similare prestate.\\\\nservicii de proiectare pentru oricare dintre fazele de proiectare pentru\\\\nPrin lucrari similare se inteleg:  lucr\\xc4\\x83ri de constructii/extinderi de depozite de deseuri, constructii/extinderi de celule de deseuri, inchideri depozite de deseuri/ celule de deseuri, sau alte constructii asemenea \\\\nEnumerarea de mai sus nu are caracter limitativ.\\\\nUltimii 5 ani se raporteaz\\xc4\\x83 la termenul limit\\xc4\\x83 de depunere a ofertelor, cu aplicarea corespunz\\xc4\\x83toare a Instruc\\xc8\\x9biunii ANAP nr. 2/2017 (art. 13).\\\\nOfertantul va prezenta pentru dovedirea experientei similare, \\xc3\\xaen copie, certificate / documente emise, sau contrasemnate de o autoritate, sau de c\\xc4\\x83tre clientul privat beneficiar. Documentele justificative pot fi documente reprezent\\xc3\\xa2nd certific\\xc4\\x83ri, documente constatatoare sau echivalente pentru acele lucr\\xc4\\x83ri \\xc8\\x99i servicii pe care ofertantul considera ca autoritatea contractanta trebuie sa le ia \\xc3\\xaen considerare, pentru evaluarea \\xc3\\xaendeplinirii cerin\\xc8\\x9bei privind experien\\xc8\\x9ba similar\\xc4\\x83. Respectivele certific\\xc4\\x83ri sau documente echivalente vor trebui s\\xc4\\x83 indice: \\\\n- a. obiectul serviciilor/lucr\\xc4\\x83rilor similare astfel \\xc3\\xaenc\\xc3\\xa2t s\\xc4\\x83 fie furnizate toate informa\\xc8\\x9biile solicitate \\xc8\\x99i necesare pentru a se verifica \\xc3\\xaendeplinirea cerin\\xc8\\x9bei privind experienta similara; \\\\n- b. num\\xc4\\x83rul \\xc8\\x99i data contractului / contractelor invocat(e) drept experien\\xc8\\x9b\\xc4\\x83 similar\\xc4\\x83; \\\\n- c. beneficiarii, indiferent dac\\xc4\\x83 ace\\xc8\\x99tia sunt autorit\\xc4\\x83\\xc8\\x9bi contractante sau clien\\xc8\\x9bi priva\\xc8\\x9bi;\\\\n- d. valoarea-\\xc3\\xaen lei f\\xc4\\x83r\\xc4\\x83 TVA.\\\\n- e. perioada, mai exact intervalul periodic (data de \\xc3\\xaenceput \\xc8\\x99i data de finalizare) \\xc3\\xaen care s-a executat contractul;\\\\n- f. locul prest\\xc4\\x83rii serviciilor \\\\nCertific\\xc4\\x83rile sau documentele echivalente vor fi emise sau contrasemnate de beneficiar (autoritate contractanta sau client privat). Experien\\xc8\\x9ba similar\\xc4\\x83 poate fi sus\\xc8\\x9binuta \\xc8\\x99i de ter\\xc8\\x9b/ter\\xc8\\x9bi sus\\xc8\\x9bin\\xc4\\x83tor, \\xc3\\xaen condi\\xc8\\x9biile legii. \\\\nPentru persoanele juridice str\\xc4\\x83ine, documentele se prezint\\xc4\\x83 \\xc3\\xaen copie cu men\\xc8\\x9biunea\\xe2\\x80\\x9d conform cu originalul\\xe2\\x80\\x9d, \\xc3\\xaenso\\xc8\\x9bite de traducerea autorizat\\xc4\\x83 \\xc3\\xaen limba rom\\xc3\\xa2n\\xc4\\x83. \\\\nAv\\xc3\\xa2nd \\xc3\\xaen vedere prevederile art. 13 alin (2) din Instruc\\xc8\\x9biunea Pre\\xc8\\x99edintelui ANAP nr. 2/2017, dac\\xc4\\x83 se decaleaz\\xc4\\x83 termenul de\\\\ndepunere al ofertelor, se va extinde corespunz\\xc4\\x83tor (cu zilele de decalare) \\xc8\\x99i perioada aferent\\xc4\\x83 experientei similare.\\\\n\\xc3\\x8en cazul \\xc3\\xaen care ofertantul este un grup de operatori economici, cerin\\xc8\\x9ba minim\\xc4\\x83 privind experienta similar\\xc4\\x83 poate fi \\xc3\\xaendeplinit\\xc4\\x83 prin cumul, iar documentele solicitate vor fi prezentate de c\\xc4\\x83tre fiecare membru al asocierii.\\\\nNota 1: Dac\\xc4\\x83 se vor prezenta ca experien\\xc8\\x9b\\xc4\\x83 similara contracte care au ca obiect executarea de lucr\\xc4\\x83ri, atunci ofertantul are obliga\\xc8\\x9bia sa eviden\\xc8\\x9bieze \\xc8\\x99i s\\xc4\\x83 dovedeasc\\xc4\\x83 \\xc3\\xaen mod clar \\xc3\\xaen documentele reprezent\\xc3\\xa2nd certific\\xc4\\x83ri de bun\\xc4\\x83 presta\\xc8\\x9bie depuse, care sunt lucr\\xc4\\x83rile de natur\\xc4\\x83 a \\xc3\\xaendeplini solicit\\xc4\\x83rile din fi\\xc8\\x99a de date a achizi\\xc8\\x9biei.\\\\nNOTA 2: Dac\\xc4\\x83 un grup de operatori economici depune o oferta comuna, cerin\\xc8\\x9ba se demonstreaz\\xc4\\x83 prin luarea \\xc3\\xaen considerare a resurselor tuturor membrilor grupului. \\xc3\\x8en aceasta situa\\xc8\\x9bie \\xc8\\x99i Ofertantul asociat va completa DUAE - sec\\xc8\\x9biunea \\\\\"Criteriile de selec\\xc8\\x9bie\\\\\" -pct. C \\\\\"Capacitatea tehnica \\xc8\\x99i profesionala\\\\\". De asemenea, \\xc3\\xaempreuna cu oferta, se va \\xc3\\xaenc\\xc4\\x83rca \\xc3\\xaen SEAP \\xc8\\x99i Acordul de Asociere, semnat cu semn\\xc4\\x83tura electronica extinsa, \\xc3\\xaen condi\\xc8\\x9biile legii.\\\\nNOTA 3: \\xc3\\x8en vederea \\xc3\\xaendeplinirii cerin\\xc8\\x9bei, ofertantul poate beneficia de sus\\xc8\\x9binerea unui/ unor ter\\xc8\\x9b/ terti, cu respectarea prevederilor art. 182 din Legea nr. 98/2016 si ale art. 48 din anexa la HG nr. 395/2016. \\xc3\\x8en acest caz, ter\\xc8\\x9bul sus\\xc8\\x9bin\\xc4\\x83tor va completa DUAE - sec\\xc8\\x9biunea \\\\\"Criteriile de selec\\xc8\\x9bie\\\\\" - pct. C \\\\\"Capacitatea tehnica \\xc8\\x99i profesionala\\\\\".\\\\nNOTA 4: Cursul de referin\\xc5\\xa3\\xc4\\x83 care va fi avut \\xc3\\xaen vedere pentru calculul echivalen\\xc5\\xa3ei pentru contractele a c\\xc4\\x83ror valoare este exprimat\\xc4\\x83 \\xc3\\xaen alt\\xc4\\x83 valut\\xc4\\x83 dec\\xc3\\xa2t \\xc3\\xaen lei este Cursul mediu anual \\xc3\\xaen lei/valut\\xc4\\x83 comunicat de Banca Na\\xc5\\xa3ional\\xc4\\x83 a Rom\\xc3\\xa2niei pentru fiecare an \\xc3\\xaen parte.\\\\r\\\\nInforma\\xc8\\x9bii privind subcontractarea, daca este cazul - Acordul de subcontractare se prezint\\xc4\\x83 odat\\xc4\\x83 cu DUAE iar documentele justificative care probeaz\\xc4\\x83 \\xc3\\xaendeplinirea celor asumate prin acordul de subcontractare urmeaz\\xc4\\x83 a fi prezentate, la solicitarea autorit\\xc4\\x83\\xc8\\x9bii contractante, doar de c\\xc4\\x83tre ofertantul clasat pe locul I \\xc3\\xaen clasamentul intermediar \\xc3\\xaentocmit la finalizarea evalu\\xc4\\x83rii ofertelor.Se va specifica \\xc3\\xaen mod obligatoriu \\xc3\\xaen DUAE Propor\\xc8\\x9bia de subcontractare \\xc8\\x99i care sunt activit\\xc4\\x83\\xc8\\x9bile ce fac obiectul  subcontract\\xc4\\x83rii din cadrul contractului ce urmeaz\\xc4\\x83 a fi atribuit.\\\\n\\\\nInforma\\xc8\\x9bii privind asocierea, dac\\xc4\\x83 este cazul - Acordul de asociere se prezint\\xc4\\x83 odat\\xc4\\x83 cu DUAE. \\xc3\\x8en cazul unei asocieri se completeaz\\xc4\\x83 \\xc8\\x99i se prezint\\xc4\\x83 formularul model \\xe2\\x80\\x9eAcord de asociere\\xe2\\x80\\x9d din \\xe2\\x80\\x9eSec\\xc8\\x9biunea formulare\\xe2\\x80\\x9d. Oferta trebuie sa cuprind\\xc4\\x83 acordul de asociere \\xc3\\xaen care sa se men\\xc8\\x9bioneze ca to\\xc8\\x9bi asocia\\xc8\\x9bii \\xc3\\xae\\xc8\\x99i asuma r\\xc4\\x83spunderea solidar\\xc4\\x83 pentru \\xc3\\xaendeplinirea contractului, c\\xc4\\x83 liderul asocierii este \\xc3\\xaemputernicit s\\xc4\\x83 se oblige \\xc8\\x99i s\\xc4\\x83 primeasc\\xc4\\x83 instruc\\xc8\\x9biuni de la \\xc8\\x99i \\xc3\\xaen numele tuturor asocia\\xc8\\x9bilor, individual \\xc8\\x99i colectiv, \\xc8\\x99i ca liderul asocierii este responsabil pentru \\xc3\\xaendeplinirea contractului, inclusiv pentru pl\\xc4\\x83\\xc8\\x9bile efectuate. Structura sau constituirea asocia\\xc8\\x9biei nu \\\\nva fi modificat\\xc4\\x83 pe toat\\xc4\\x83 durata contractului,dec\\xc3\\xa2t cu aprobarea autorit\\xc4\\x83\\xc8\\x9bii contractante \\xc8\\x99i numai \\xc3\\xaen situa\\xc8\\x9bii excep\\xc8\\x9bionale..\\\\nNota: \\xc3\\x8en cazul \\xc3\\xaen care oferta comuna este declarata c\\xc3\\xa2\\xc8\\x99tig\\xc4\\x83toare, \\xc3\\xaenainte de semnarea contractului, participan\\xc8\\x9bii \\xc3\\xaen comun la procedura de atribuire vor prezenta Acordul de asociere \\xc3\\xaen original.\\\\n\\\\nInforma\\xc8\\x9bii privind ter\\xc8\\x9bii sus\\xc8\\x9bin\\xc4\\x83tori, dac\\xc4\\x83 este cazul - \\xc3\\x8en cazul \\xc3\\xaen care beneficiaz\\xc4\\x83 de sus\\xc8\\x9binere din partea unui ter\\xc8\\x9b, ofertantul va prezenta:\\\\na) Angajamentul ferm privind sus\\xc8\\x9binerea capacit\\xc4\\x83\\xc8\\x9bii tehnice acordata de ter\\xc8\\x9bul sus\\xc8\\x9bin\\xc4\\x83tor\\\\nAngajamentul ferm va fi \\xc3\\xaenc\\xc4\\x83rcat \\xc3\\xaen SEAP \\xc3\\xaempreuna cu DUAE si cu oferta si va fi semnat cu semn\\xc4\\x83tura electronica extinsa, bazata pe un certificat calificat, eliberat de un furnizor de servicii de certificare acreditat \\xc3\\xaen condi\\xc8\\x9biile legii.\\\\nb) documentele transmise ofertantului de c\\xc4\\x83tre tertul/tertii sustinator/sustinatori, din care sa rezulte modul efectiv prin care\\\\ntertul/tertii sustinator/sustinatori va/vor asigura indeplinirea propriului angajament de sustinere, care se constituie in anexe la angajamentul ferm. Documentele prezentate trebuie sa indice concret care sunt resursele (materiale/ umane/ tehnice/ etc.) pe care tertul le va mobiliza in cazul in care ofertantul intampina dificultati pe parcursul derularii contractului sau se va afla in imposibilitatea derularii contractului, tipul acestor documente fiind determinat de obligatiile asumate de ofertant si tertul sustinator prin angajamentul ferm. \\\\nTertul sustinator va dovedi prin documentele prezentate ca detine toate resursele invocate ca element de sustinere a ofertatnutlui. Aceste documente vor fi incarcate in SEAP impreuna cu Angajamentul ferm si cu oferta, si vor fi semnate cu semnatura electronica extinsa, in conditiile legii.\\\\nc) certificate/ documente emise sau contrasemnate de o autoritate ori de catre clientul beneficiar si/sau procese verbale de receptie si/sau documente constatatoare emise de autoritatile contractate si/sau Certificari de buna executie, din care sa reiasa toate elementele necesare pentru confirmarea indeplinirii cerintei de capacitate tehnica.\\\\nDocumentele mentionate la pct c) vor fi prezentate de ofertantul clasat pe primul loc dupa aplicarea criteriului de atribuire, anterior atribuirii contractului, la solicitarea Autoritatii Contractante, cu respectarea cerintelor privind semnarea electronica a documentelor.\\\\nNota 3: Autoritatea Contractanta va lua in considerare sustinerea acordata de tertul/ tertii sustinator/i pentru indeplinirea criteriilor\\\\nminime impuse in documentatia de atribuire, daca sunt indeplinite in mod cumulativ urmatoarele conditii:\\\\na) tertul/ tertii sustinator(i) pot dovedi ca detin resursele invocate ca element de sustinere a ofertantului;\\\\nb) ofertantul poate demonstra ca va dispune efectiv de resursele entitatilor ce acorda sustinerea, necesare pentru realizarea contractului, in cazul in care tertul sustinator nu este declarat subcontractant.\\\\r\\\\nCertificate emise de organisme independente cu privire la standardele de asigurare a calitatii\\\\nCerinta nr. 1 - Dovada implementarii unui sistem de management al calitatii pentru activitati in domeniul in care se incadreaza activitatea principala de executie care face obiectul contractului in conformitate cu SR EN ISO 9001 sau echivalent.\\\\nOfertantul va face dovada implementarii sistemului de management al calitatii conform SR EN ISO 9001, prin prezentarea unor certificate valabile la data prezentarii acestora, emise de organisme independente sau alte probe/dovezi care confirma asigurarea unui nivel corespunzator al calitatii pentru cazurile in care operatorul economic nu are acces la un certificat de calitate astfel cum a fost solicitat ori nu are posibilitatea de a-l obtine in termenul stabilit.\\\\nEntitatea contractanta, in conformitate cu principiul recunoasterii reciproce, va accepta certificate echivalente cu cel prevazut mai sus, emise de organisme de certificare acreditate stabilite in alte state membre.\\\\nIn cazul unei asocieri, cerinta va fi indeplinita de fiecare membru al asocierii, pentru partea din contract pe care o realizeaza. Modalitatea de indeplinire:\\\\nPentru indeplinirea cerintei se va prezenta, ca dovada preliminara, DUAE completat de catre ofertant cu informatii relevante.\\\\nDocumentele justificative care probeaza indeplinirea celor asumate prin completarea DUAE urmeaza a fi prezentate, la solicitarea entitatii contractante, doar de ofertantul clasat pe primul loc.\\\\nAceste documente sunt:\\\\n-certificat valabil emis de organisme independente, care atesta ca acesta are implementat, conform ISO 9001 sau echivalent, un sistem de management al calitatii pentru activitati in domeniul in care se incadreaza activitatea principala ce face obiectul contractului.\\\\n-sau alte probe/dovezi care confirma asigurarea unui nivel corespunzator al calitatii, pentru activitati in domeniul in care se incadreaza activitatea principala  ce face obiectul contractului, pentru cazurile in care operatorul economic nu a avut acces la un certificat de calitate astfel cum a fost solicitat ori nu a avut posibilitatea de a-l obtine in termenul stabilit, conform art. 200 alin. 3 din Legea 98/2016.\\\\nIn cazul unei asocieri, cerinta privind sistemul de management al calitatii trebuie sa fie indeplinita de fiecare asociat pentru partea din contract pe care urmeaza sa o indeplineasca. \\\\nDocumentele prezentate in alta limba vor fi insotite de traducere autorizata in limba romana.\\\\r\\\\nCertificate emise de organisme independente cu privire la sistemele sau standardele de management de mediu\\\\nCerinta nr. 2 - Dovada implementarii unui sistem de management de mediu pentru activitati in domeniul in care se incadreaza activitatea principala de executie care face obiectul contractului, in conformitate cu SR EN ISO 14001 sau echivalent.\\\\nOfertantul va face dovada implementarii sistemului de management de mediu conform SR EN ISO 14001, prin prezentarea unor certificate valabile la data prezentarii acestora, emise de organisme independente sau alte probe/dovezi care confirma asigurarea unui nivel corespunzator al standardului de mediu pentru cazurile in care operatorul economic nu are acces la un certificat de mediu astfel cum a fost solicitat ori nu are posibilitatea de a-l obtine in termenul stabilit.\\\\nEntitatea contractanta, in conformitate cu principiul recunoasterii reciproce, va accepta certificate echivalente cu cel prevazut mai sus, emise de organisme de certificare acreditate stabilite in alte state membre.\\\\nIn cazul unei asocieri, cerinta va fi indeplinita de fiecare membru al asocierii, pentru partea din contract pe care o realizeaza. Modalitatea de indeplinire:\\\\nPentru indeplinirea cerintei se va prezenta, ca dovada preliminara, DUAE completat de catre ofertant cu informatii relevante.\\\\nDocumentele justificative care probeaza indeplinirea celor asumate prin completarea DUAE urmeaza a fi prezentate, la solicitarea entitatii contractante, doar de ofertantul clasat pe primul loc.\\\\nAceste documente sunt:\\\\n-certificat valabil emis de organisme independente, care atesta ca acesta are implementat, conform SR EN ISO 14001 sau echivalent, un sistem de management de mediu pentru activitati in domeniul in care se incadreaza activitatea principala ce face obiectul contractului.\\\\n-sau alte probe/dovezi care confirma asigurarea unui nivel corespunzator al managementul mediului , pentru activitati in domeniul in care se incadreaza activitatea principala ce face obiectul contractului, pentru cazurile in care operatorul economic nu a avut acces la un certificat de mediu astfel cum a fost solicitat ori nu a avut posibilitatea de a-l obtine in termenul stabilit, conform art. 200 alin. 3 din Legea 98/2016 .\\\\nIn cazul unei asocieri, cerinta privind sistemul de management al calitatii trebuie sa fie indeplinita de fiecare asociat pentru partea din contract pe care urmeaza sa o indeplineasca.\\\\nDocumentele prezentate in alta limba vor fi insotite de traducere autorizata in limba romana.\\\\r\\\\n\",\"tpCriteriaQAStandardBold1\":\"List\\xc4\\x83 \\xc5\\x9fi descriere succint\\xc4\\x83 a criteriilor de selec\\xc5\\xa3ie: \\\\t \\\\n\",\"tpCriteriaQAStandardBold2\":\" Nivel(uri) minim(e) al(e) standardelor care ar putea fi impuse:  \\\\n \\\\t\",\"prCriteria\":null,\"isReservedContract\":false,\"restrictedToShelterdWorkshop\":false,\"restrictedToPrograms\":false,\"depositsAndWarranties\":null,\"mainFinancialMethods\":null,\"legalFormOfSuppliers\":null,\"securityAuthorizationDate\":null,\"dcParticipantSelectionCriteria\":null,\"restrictedToShelterdEmplProg\":false,\"legalInfoForEmplProgs\":null,\"professionDescription\":null,\"hasSpecialConditions\":false,\"specialConditionsInfo\":null,\"mandatoryProfesionalQualif\":false,\"contrExecResponsable\":null,\"canView3_1_1\":true,\"canView3_1_2\":true,\"canView3_1_3\":true,\"canView3_1_4\":false,\"canView3_1_5\":true,\"canView3_1_6\":false,\"canView3_1_7\":false,\"canView3_1_8\":false,\"canView3_1_9\":false,\"canView3_1_10\":false,\"canView3_2_1\":true,\"canView3_2_2\":true,\"canView3_2_3\":true,\"section311ModifWarning\":\"\",\"section312ModifWarning\":\"\",\"section313ModifWarning\":\"\",\"section314ModifWarning\":null,\"section315ModifWarning\":\"\",\"section316ModifWarning\":null,\"section317ModifWarning\":null,\"section318ModifWarning\":null,\"section319ModifWarning\":null,\"section3110ModifWarning\":null,\"section321ModifWarning\":\"\",\"section322ModifWarning\":\"\",\"section323ModifWarning\":\"\",\"hasError\":false,\"responseMessage\":null}'"
      ]
     },
     "execution_count": 54,
     "metadata": {},
     "output_type": "execute_result"
    }
   ],
   "source": [
    "response.content"
   ]
  },
  {
   "cell_type": "code",
   "execution_count": null,
   "id": "6f3c8877",
   "metadata": {},
   "outputs": [],
   "source": []
  }
 ],
 "metadata": {
  "kernelspec": {
   "display_name": ".venv",
   "language": "python",
   "name": "python3"
  },
  "language_info": {
   "codemirror_mode": {
    "name": "ipython",
    "version": 3
   },
   "file_extension": ".py",
   "mimetype": "text/x-python",
   "name": "python",
   "nbconvert_exporter": "python",
   "pygments_lexer": "ipython3",
   "version": "3.9.6"
  }
 },
 "nbformat": 4,
 "nbformat_minor": 5
}
